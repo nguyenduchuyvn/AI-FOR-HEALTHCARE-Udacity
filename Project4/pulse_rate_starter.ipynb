{
 "cells": [
  {
   "cell_type": "markdown",
   "metadata": {},
   "source": [
    "## Part 1: Pulse Rate Algorithm\n",
    "\n",
    "### Contents\n",
    "Fill out this notebook as part of your final project submission.\n",
    "\n",
    "**You will have to complete both the Code and Project Write-up sections.**\n",
    "- The [Code](#Code) is where you will write a **pulse rate algorithm** and already includes the starter code.\n",
    "   - Imports - These are the imports needed for Part 1 of the final project. \n",
    "     - [glob](https://docs.python.org/3/library/glob.html)\n",
    "     - [numpy](https://numpy.org/)\n",
    "     - [scipy](https://www.scipy.org/)\n",
    "- The [Project Write-up](#Project-Write-up) to describe why you wrote the algorithm for the specific case.\n",
    "\n",
    "\n",
    "### Dataset\n",
    "You will be using the **Troika**[1] dataset to build your algorithm. Find the dataset under `datasets/troika/training_data`. The `README` in that folder will tell you how to interpret the data. The starter code contains a function to help load these files.\n",
    "\n",
    "1. Zhilin Zhang, Zhouyue Pi, Benyuan Liu, ‘‘TROIKA: A General Framework for Heart Rate Monitoring Using Wrist-Type Photoplethysmographic Signals During Intensive Physical Exercise,’’IEEE Trans. on Biomedical Engineering, vol. 62, no. 2, pp. 522-531, February 2015. Link\n",
    "\n",
    "-----"
   ]
  },
  {
   "cell_type": "markdown",
   "metadata": {},
   "source": [
    "### Code"
   ]
  },
  {
   "cell_type": "code",
   "execution_count": 76,
   "metadata": {},
   "outputs": [
    {
     "data": {
      "text/plain": [
       "20.500356187398459"
      ]
     },
     "execution_count": 76,
     "metadata": {},
     "output_type": "execute_result"
    }
   ],
   "source": [
    "import glob\n",
    "\n",
    "import numpy as np\n",
    "import scipy as sp\n",
    "import scipy.io\n",
    "from scipy import signal\n",
    "\n",
    "def LoadTroikaDataset():\n",
    "    \"\"\"\n",
    "    Retrieve the .mat filenames for the troika dataset.\n",
    "\n",
    "    Review the README in ./datasets/troika/ to understand the organization of the .mat files.\n",
    "\n",
    "    Returns:\n",
    "        data_fls: Names of the .mat files that contain signal data\n",
    "        ref_fls: Names of the .mat files that contain reference data\n",
    "        <data_fls> and <ref_fls> are ordered correspondingly, so that ref_fls[5] is the \n",
    "            reference data for data_fls[5], etc...\n",
    "    \"\"\"\n",
    "    data_dir = \"./datasets/troika/training_data\"\n",
    "    data_fls = sorted(glob.glob(data_dir + \"/DATA_*.mat\"))\n",
    "    ref_fls = sorted(glob.glob(data_dir + \"/REF_*.mat\"))\n",
    "    return data_fls, ref_fls\n",
    "\n",
    "def LoadTroikaDataFile(data_fl):\n",
    "    \"\"\"\n",
    "    Loads and extracts signals from a troika data file.\n",
    "\n",
    "    Usage:\n",
    "        data_fls, ref_fls = LoadTroikaDataset()\n",
    "        ppg, accx, accy, accz = LoadTroikaDataFile(data_fls[0])\n",
    "\n",
    "    Args:\n",
    "        data_fl: (str) filepath to a troika .mat file.\n",
    "\n",
    "    Returns:\n",
    "        numpy arrays for ppg, accx, accy, accz signals.\n",
    "    \"\"\"\n",
    "    data = sp.io.loadmat(data_fl)['sig']\n",
    "    return data[2:]\n",
    "\n",
    "def AggregateErrorMetric(pr_errors, confidence_est):\n",
    "    \"\"\"\n",
    "    Computes an aggregate error metric based on confidence estimates.\n",
    "\n",
    "    Computes the MAE at 90% availability. \n",
    "\n",
    "    Args:\n",
    "        pr_errors: a numpy array of errors between pulse rate estimates and corresponding \n",
    "            reference heart rates.\n",
    "        confidence_est: a numpy array of confidence estimates for each pulse rate\n",
    "            error.\n",
    "\n",
    "    Returns:\n",
    "        the MAE at 90% availability\n",
    "    \"\"\"\n",
    "    # Higher confidence means a better estimate. The best 90% of the estimates\n",
    "    #    are above the 10th percentile confidence.\n",
    "    percentile90_confidence = np.percentile(confidence_est, 10)\n",
    "\n",
    "    # Find the errors of the best pulse rate estimates\n",
    "    best_estimates = pr_errors[confidence_est >= percentile90_confidence]\n",
    "\n",
    "    # Return the mean absolute error\n",
    "    return np.mean(np.abs(best_estimates))\n",
    "\n",
    "def Evaluate():\n",
    "    \"\"\"\n",
    "    Top-level function evaluation function.\n",
    "\n",
    "    Runs the pulse rate algorithm on the Troika dataset and returns an aggregate error metric.\n",
    "\n",
    "    Returns:\n",
    "        Pulse rate error on the Troika dataset. See AggregateErrorMetric.\n",
    "    \"\"\"\n",
    "    # Retrieve dataset files\n",
    "    data_fls, ref_fls = LoadTroikaDataset()\n",
    "    errs, confs = [], []\n",
    "    for data_fl, ref_fl in zip(data_fls, ref_fls):\n",
    "        # Run the pulse rate algorithm on each trial in the dataset\n",
    "        errors, confidence = RunPulseRateAlgorithm(data_fl, ref_fl)\n",
    "        errs.append(errors)\n",
    "        confs.append(confidence)\n",
    "        # Compute aggregate error metric\n",
    "    errs = np.hstack(errs)\n",
    "    confs = np.hstack(confs)\n",
    "    return AggregateErrorMetric(errs, confs)\n",
    "\n",
    "def RunPulseRateAlgorithm(data_fl, ref_fl):\n",
    "    # Load data using LoadTroikaDataFile\n",
    "    ppg, accx, accy, accz = LoadTroikaDataFile(data_fl)\n",
    "    ground_truth = scipy.io.loadmat(ref_fl)['BPM0'].reshape(-1)\n",
    "#     print(np.shape(ground_truth))\n",
    "    \n",
    "    # Load data using LoadTroikaDataFile\n",
    "    # ppg, accx, accy, accz = LoadTroikaDataFile(data_fls[0])\n",
    "\n",
    "    # Compute pulse rate estimates and estimation confidence.\n",
    "    fs = 125\n",
    "    window_length = 8*fs\n",
    "    window_shift = 2*fs\n",
    "    # Bandpass filter\n",
    "    ppg  = bandpass(ppg, fs)\n",
    "    accx = bandpass(accx, fs)\n",
    "    accy = bandpass(accy, fs)\n",
    "    accz = bandpass(accz, fs)\n",
    "\n",
    "    # Magnitude of acceleration as 3D\n",
    "    acc = np.sqrt(accx**2 + accy**2 + accz**2)\n",
    "\n",
    "    bpm_predictions = []\n",
    "    list_confidence = []\n",
    "\n",
    "    for i in range(0, len(ppg)- window_length +1 , window_shift):\n",
    "        ppg_current = ppg[i: i+ window_length]\n",
    "        acc_current = acc[i: i+ window_length]\n",
    "\n",
    "        # Apply Fourrier Transform\n",
    "        ppg_freqs, ppg_ffts = fourrier_transformation(ppg_current, fs)\n",
    "        acc_freqs, acc_ffts = fourrier_transformation(acc_current, fs)\n",
    "        \n",
    "        # Remove unwanted frequencies \n",
    "        ppg_ffts[ppg_freqs <= 40/60] = 0.0\n",
    "        ppg_ffts[ppg_freqs >= 240/60] = 0.0\n",
    "        acc_ffts[acc_freqs <= 40/60] = 0.0\n",
    "        acc_ffts[acc_freqs >= 240/60] = 0.0\n",
    "\n",
    "\n",
    "        # Get frequency that has the largerst FFT coefficient\n",
    "        ppg_freq = ppg_freqs[np.argmax(ppg_ffts, axis=0)]  \n",
    "        acc_freq = acc_freqs[np.argmax(acc_ffts, axis=0)]\n",
    "\n",
    "        confidence = calculate_confidence(ppg_freqs, ppg_ffts, ppg_freq)\n",
    "        \n",
    "                \n",
    "        k = 1\n",
    "        while abs(ppg_freq - acc_freq) <= 0.01 and k <=3:                \n",
    "            ppg_freq   = ppg_freqs[np.argsort(ppg_ffts, axis=0)[-k]]\n",
    "            acc_freq = acc_freqs[np.argsort(acc_ffts, axis=0)[-k]]\n",
    "            confidence = calculate_confidence(ppg_freqs, ppg_ffts, ppg_freq)\n",
    "            \n",
    "            k += 1\n",
    "            \n",
    "\n",
    "        bpm_predictions.append(ppg_freq * 60) # Convert to bpm from Hz\n",
    "        list_confidence.append(confidence)\n",
    "\n",
    "    errors = np.abs(np.subtract(bpm_predictions, ground_truth))\n",
    "\n",
    "\n",
    "\n",
    "        # Return per-estimate mean absolute error and confidence as a 2-tuple of numpy arrays.\n",
    "        #errors, confidence = np.ones(100), np.ones(100)  # Dummy placeholders. Remove\n",
    "    return errors, list_confidence\n",
    "\n",
    "\n",
    "def bandpass (signals, fs):\n",
    "    \"\"\"\n",
    "    Filter pulse rate that will be restricted in bandpass \n",
    "    \n",
    "    \"\"\"\n",
    "    # here we assumes pulse rate will be restricted between 40BPM (beats per minute) and 240BPM\n",
    "    pass_band=(40/60.0, 240/60.0)\n",
    "    b, a = sp.signal.butter(3, pass_band, btype='bandpass', fs=fs)\n",
    "    return sp.signal.filtfilt(b, a, signals)\n",
    "\n",
    "def fourrier_transformation(signals, fs):   \n",
    "    \n",
    "    freqs = np.fft.rfftfreq(len(signals), 1/fs)\n",
    "    fft = np.abs(np.fft.rfft(signals, len(signals)))\n",
    "    return freqs, fft\n",
    "\n",
    "def calculate_confidence(freq, fft, fulse_rate, windows = 1):\n",
    "    \n",
    "    \"\"\"\n",
    "    Inputs:\n",
    "    freq: np.array Frequency bins\n",
    "    fft: np.array  Magnitude of FFT \n",
    "    fulse_rate: the pulse rate\n",
    "    windows: \n",
    "    Returns:\n",
    "        confidence: float.\n",
    "    \"\"\"\n",
    "    frequency_spectrum = (freq > fulse_rate - windows) & (freq <fulse_rate + windows)\n",
    "    \n",
    "    return np.sum(fft[frequency_spectrum])/np.sum(fft)\n",
    "Evaluate()"
   ]
  },
  {
   "cell_type": "code",
   "execution_count": 71,
   "metadata": {},
   "outputs": [],
   "source": [
    "data_fls, ref_fls = LoadTroikaDataset()"
   ]
  },
  {
   "cell_type": "code",
   "execution_count": 3,
   "metadata": {},
   "outputs": [
    {
     "data": {
      "text/plain": [
       "['./datasets/troika/training_data/DATA_01_TYPE01.mat',\n",
       " './datasets/troika/training_data/DATA_02_TYPE02.mat',\n",
       " './datasets/troika/training_data/DATA_03_TYPE02.mat',\n",
       " './datasets/troika/training_data/DATA_04_TYPE01.mat',\n",
       " './datasets/troika/training_data/DATA_04_TYPE02.mat',\n",
       " './datasets/troika/training_data/DATA_05_TYPE02.mat',\n",
       " './datasets/troika/training_data/DATA_06_TYPE02.mat',\n",
       " './datasets/troika/training_data/DATA_07_TYPE02.mat',\n",
       " './datasets/troika/training_data/DATA_08_TYPE02.mat',\n",
       " './datasets/troika/training_data/DATA_10_TYPE02.mat',\n",
       " './datasets/troika/training_data/DATA_11_TYPE02.mat',\n",
       " './datasets/troika/training_data/DATA_12_TYPE02.mat']"
      ]
     },
     "execution_count": 3,
     "metadata": {},
     "output_type": "execute_result"
    }
   ],
   "source": [
    "data_fls"
   ]
  },
  {
   "cell_type": "code",
   "execution_count": 4,
   "metadata": {},
   "outputs": [
    {
     "data": {
      "text/plain": [
       "['./datasets/troika/training_data/REF_01_TYPE01.mat',\n",
       " './datasets/troika/training_data/REF_02_TYPE02.mat',\n",
       " './datasets/troika/training_data/REF_03_TYPE02.mat',\n",
       " './datasets/troika/training_data/REF_04_TYPE01.mat',\n",
       " './datasets/troika/training_data/REF_04_TYPE02.mat',\n",
       " './datasets/troika/training_data/REF_05_TYPE02.mat',\n",
       " './datasets/troika/training_data/REF_06_TYPE02.mat',\n",
       " './datasets/troika/training_data/REF_07_TYPE02.mat',\n",
       " './datasets/troika/training_data/REF_08_TYPE02.mat',\n",
       " './datasets/troika/training_data/REF_10_TYPE02.mat',\n",
       " './datasets/troika/training_data/REF_11_TYPE02.mat',\n",
       " './datasets/troika/training_data/REF_12_TYPE02.mat']"
      ]
     },
     "execution_count": 4,
     "metadata": {},
     "output_type": "execute_result"
    }
   ],
   "source": [
    "ref_fls"
   ]
  },
  {
   "cell_type": "code",
   "execution_count": 5,
   "metadata": {},
   "outputs": [],
   "source": [
    "data_fls, ref_fls = LoadTroikaDataset()\n",
    "ppg, accx, accy, accz = LoadTroikaDataFile(data_fls[0])"
   ]
  },
  {
   "cell_type": "code",
   "execution_count": 6,
   "metadata": {},
   "outputs": [
    {
     "data": {
      "text/plain": [
       "((37937,), (37937,), (37937,), (37937,))"
      ]
     },
     "execution_count": 6,
     "metadata": {},
     "output_type": "execute_result"
    }
   ],
   "source": [
    "np.shape(ppg), np.shape(accx), np.shape(accy), np.shape(accz)"
   ]
  },
  {
   "cell_type": "code",
   "execution_count": 7,
   "metadata": {},
   "outputs": [],
   "source": []
  },
  {
   "cell_type": "code",
   "execution_count": 8,
   "metadata": {},
   "outputs": [
    {
     "data": {
      "text/plain": [
       "<matplotlib.figure.Figure at 0x7fe3357fe588>"
      ]
     },
     "metadata": {},
     "output_type": "display_data"
    }
   ],
   "source": [
    "import matplotlib.pyplot as plt\n",
    "\n",
    "plt.plot(ppg)\n",
    "plt.title('Center Title')\n",
    "plt.title('Left Title', loc='left')\n",
    "plt.title('Right Title', loc='right')\n",
    "plt.show()"
   ]
  },
  {
   "cell_type": "code",
   "execution_count": 9,
   "metadata": {},
   "outputs": [
    {
     "data": {
      "image/png": "[encoded data removed]",
      "text/plain": [
       "<matplotlib.figure.Figure at 0x7fe3112d41d0>"
      ]
     },
     "metadata": {
      "needs_background": "light"
     },
     "output_type": "display_data"
    }
   ],
   "source": [
    "fs = 125 # Since the sampling rate was 125 Hz\n",
    "ppg = bandpass (ppg, fs)\n",
    "\n",
    "plt.plot(ppg)\n",
    "plt.title('Center Title')\n",
    "plt.show()"
   ]
  },
  {
   "cell_type": "code",
   "execution_count": 10,
   "metadata": {},
   "outputs": [],
   "source": []
  },
  {
   "cell_type": "code",
   "execution_count": 11,
   "metadata": {},
   "outputs": [
    {
     "data": {
      "image/png": "[encoded data removed]",
      "text/plain": [
       "<matplotlib.figure.Figure at 0x7fe3112a5550>"
      ]
     },
     "metadata": {
      "needs_background": "light"
     },
     "output_type": "display_data"
    }
   ],
   "source": [
    "ppg_freq, ppg_fft = fourrier_transformation(ppg[200:1000], fs)\n",
    "pks = sp.signal.find_peaks(ppg_fft, height=1000, distance=10)[0]\n",
    "\n",
    "plt.plot(ppg_fft)\n",
    "plt.plot(pks, ppg_fft[pks], 'r.')\n",
    "plt.show()"
   ]
  },
  {
   "cell_type": "code",
   "execution_count": 12,
   "metadata": {},
   "outputs": [
    {
     "data": {
      "text/plain": [
       "0.077306733167082295"
      ]
     },
     "execution_count": 12,
     "metadata": {},
     "output_type": "execute_result"
    }
   ],
   "source": [
    "np.mean((ppg_freq > 10) & (ppg_freq <15))"
   ]
  },
  {
   "cell_type": "code",
   "execution_count": 13,
   "metadata": {},
   "outputs": [
    {
     "data": {
      "text/plain": [
       "0.01738846052555941"
      ]
     },
     "execution_count": 13,
     "metadata": {},
     "output_type": "execute_result"
    }
   ],
   "source": [
    "np.sum(ppg_fft[(ppg_freq > 10) & (ppg_freq <12)])/np.sum(ppg_fft)"
   ]
  },
  {
   "cell_type": "code",
   "execution_count": 23,
   "metadata": {},
   "outputs": [
    {
     "data": {
      "text/plain": [
       "(148,)"
      ]
     },
     "execution_count": 23,
     "metadata": {},
     "output_type": "execute_result"
    }
   ],
   "source": [
    "ground_truth = scipy.io.loadmat(ref_fls[0])['BPM0'].reshape(-1)\n",
    "np.shape(ground_truth)"
   ]
  },
  {
   "cell_type": "code",
   "execution_count": 14,
   "metadata": {},
   "outputs": [
    {
     "data": {
      "text/plain": [
       "0.01738846052555941"
      ]
     },
     "execution_count": 14,
     "metadata": {},
     "output_type": "execute_result"
    }
   ],
   "source": [
    "calculate_confidence(ppg_freq, ppg_fft, fulse_rate = 11 )"
   ]
  },
  {
   "cell_type": "code",
   "execution_count": 15,
   "metadata": {},
   "outputs": [],
   "source": []
  },
  {
   "cell_type": "code",
   "execution_count": 16,
   "metadata": {},
   "outputs": [
    {
     "data": {
      "text/plain": [
       "array([ 0.02203684,  0.02803522,  0.03435165, ...,  0.01121658,\n",
       "        0.0104505 ,  0.00960517])"
      ]
     },
     "execution_count": 16,
     "metadata": {},
     "output_type": "execute_result"
    }
   ],
   "source": [
    "acc"
   ]
  },
  {
   "cell_type": "code",
   "execution_count": 49,
   "metadata": {},
   "outputs": [],
   "source": [
    "# Load data using LoadTroikaDataFile\n",
    "ppg, accx, accy, accz = LoadTroikaDataFile(data_fls[0])\n",
    "\n",
    "# Compute pulse rate estimates and estimation confidence.\n",
    "# Bandpass filter\n",
    "ppg  = bandpass(ppg, fs)\n",
    "accx = bandpass(accx, fs)\n",
    "accy = bandpass(accy, fs)\n",
    "accz = bandpass(accz, fs)\n",
    "\n",
    "# Magnitude of acceleration as 3D\n",
    "acc = np.sqrt(accx**2 + accy**2 + accz**2)\n",
    "\n",
    "bpm_predictions = []\n",
    "list_confidence = []\n",
    "window_length = 1000\n",
    "window_shift = 250\n",
    "for i in range(0, len(ppg)- window_length, window_shift):\n",
    "    ppg_current = ppg[i: i+ window_length]\n",
    "    acc_current = acc[i: i+ window_length]\n",
    "\n",
    "    # Apply Fourrier Transform\n",
    "    ppg_freqs, ppg_ffts = fourrier_transformation(ppg_current, fs)\n",
    "    acc_freqs, acc_ffts = fourrier_transformation(acc_current, fs)\n",
    "\n",
    "\n",
    "    # Get frequency that has the largerst FFT coefficient\n",
    "    ppg_freq = ppg_freqs[np.argmax(ppg_ffts, axis=0)]  \n",
    "    acc_freq = acc_freqs[np.argmax(acc_ffts, axis=0)]\n",
    "\n",
    "    confidence = calculate_confidence(ppg_freqs, ppg_ffts, ppg_freq)\n",
    "\n",
    "    for k in range(1, len(ppg_fft)):\n",
    "        if abs(ppg_freq - acc_freq) <= 0.1:\n",
    "            break\n",
    "        k_freq = ppg_freqs[np.argsort(ppg_fft, axis=0)[-k]]\n",
    "        k_confidence = calculate_confidence(ppg_freqs, ppg_ffts, k_freq)\n",
    "        \n",
    "        if k_confidence > ppg_freq:\n",
    "            ppg_freq, confidence = k_freq, k_confidence\n",
    "            break\n",
    "        \n",
    "\n",
    "    bpm_predictions.append(ppg_freq * 60) # Convert to bpm (from Hz)\n",
    "    list_confidence.append(confidence)\n",
    "\n",
    "errors = np.abs(np.subtract(bpm_predictions, ground_truth))"
   ]
  },
  {
   "cell_type": "code",
   "execution_count": 50,
   "metadata": {},
   "outputs": [
    {
     "data": {
      "text/plain": [
       "37937"
      ]
     },
     "execution_count": 50,
     "metadata": {},
     "output_type": "execute_result"
    }
   ],
   "source": [
    "len(ppg)\n",
    "# errors"
   ]
  },
  {
   "cell_type": "code",
   "execution_count": 69,
   "metadata": {},
   "outputs": [],
   "source": [
    "# ppg_freqs"
   ]
  },
  {
   "cell_type": "markdown",
   "metadata": {},
   "source": [
    "-----\n",
    "### Project Write-up\n",
    "\n",
    "Answer the following prompts to demonstrate understanding of the algorithm you wrote for this specific context.\n",
    "\n",
    "> - **Code Description** - Include details so someone unfamiliar with your project will know how to run your code and use your algorithm. \n",
    "> - **Data Description** - Describe the dataset that was used to train and test the algorithm. Include its short-comings and what data would be required to build a more complete dataset.\n",
    "> - **Algorithhm Description** will include the following:\n",
    ">   - how the algorithm works\n",
    ">   - the specific aspects of the physiology that it takes advantage of\n",
    ">   - a describtion of the algorithm outputs\n",
    ">   - caveats on algorithm outputs \n",
    ">   - common failure modes\n",
    "> - **Algorithm Performance** - Detail how performance was computed (eg. using cross-validation or train-test split) and what metrics were optimized for. Include error metrics that would be relevant to users of your algorithm. Caveat your performance numbers by acknowledging how generalizable they may or may not be on different datasets.\n",
    "\n",
    "Your write-up goes here..."
   ]
  },
  {
   "cell_type": "markdown",
   "metadata": {},
   "source": [
    "### Code Description\n",
    "In this project, the algorithm runs on the TROIKA dataset to estimate the pulse rate associated with a confidence value by using the PPG sensor.\n",
    "\n",
    "You can simply run Evaluate() function to get the mean absolute error. Moreover, you can also modify the following parameters:\n",
    "+ RunPulseRateAlgorithm(data_fl, ref_fl) function: window_length, window_shift\n",
    "+ bandpass (signals, fs) function: pass_band\n",
    "\n",
    "### Data Description\n",
    "The TROIKA data was recorded from subjects with ages between 18 and 35. During data recording, each subject ran on a treadmill with changing speeds. The PPG signal from channel one (wrist recorded, 125 Hz), three-axis acceleration signals(wrist recorded, 125 Hz), and ECG signals(chest recorded, 125 Hz) were used. \n",
    "\n",
    "### Algorithhm Description\n",
    "\n",
    "The movement of the blood in the vessels is measured by an PPG sensor. We then estimate pulse rate from the PPG signal and a 3-axis accelerometer. In this algorithm, the signal data firstly goes through the bandpass filter to be restricted between 40BPM (beats per minute) and 240BPM. In combination with  the acelerometer data, the algorithm computes the largest/second largest or more FFT coefficients and choose the PPG frequency having the best estimate.\n",
    "\n",
    "\n",
    "### Algorithm Performance: \n",
    "Algorithm performance is measured by using the mean absolute error in comparison with the ground truth (ECG). "
   ]
  },
  {
   "cell_type": "code",
   "execution_count": null,
   "metadata": {},
   "outputs": [],
   "source": []
  },
  {
   "cell_type": "code",
   "execution_count": null,
   "metadata": {},
   "outputs": [],
   "source": []
  },
  {
   "cell_type": "code",
   "execution_count": null,
   "metadata": {},
   "outputs": [],
   "source": []
  },
  {
   "cell_type": "code",
   "execution_count": null,
   "metadata": {},
   "outputs": [],
   "source": []
  },
  {
   "cell_type": "code",
   "execution_count": null,
   "metadata": {},
   "outputs": [],
   "source": []
  },
  {
   "cell_type": "markdown",
   "metadata": {},
   "source": [
    "-----\n",
    "### Next Steps\n",
    "You will now go to **Test Your Algorithm** to apply a unit test to confirm that your algorithm met the success criteria. "
   ]
  },
  {
   "cell_type": "code",
   "execution_count": null,
   "metadata": {},
   "outputs": [],
   "source": []
  },
  {
   "cell_type": "code",
   "execution_count": null,
   "metadata": {},
   "outputs": [],
   "source": []
  }
 ],
 "metadata": {
  "kernelspec": {
   "display_name": "Python 3",
   "language": "python",
   "name": "python3"
  },
  "language_info": {
   "codemirror_mode": {
    "name": "ipython",
    "version": 3
   },
   "file_extension": ".py",
   "mimetype": "text/x-python",
   "name": "python",
   "nbconvert_exporter": "python",
   "pygments_lexer": "ipython3",
   "version": "3.6.3"
  }
 },
 "nbformat": 4,
 "nbformat_minor": 4
}
